{
  "nbformat": 4,
  "nbformat_minor": 0,
  "metadata": {
    "colab": {
      "provenance": [],
      "collapsed_sections": [],
      "authorship_tag": "ABX9TyOlgDdmjvAort8BOkScV9OJ",
      "include_colab_link": true
    },
    "kernelspec": {
      "name": "python3",
      "display_name": "Python 3"
    },
    "language_info": {
      "name": "python"
    }
  },
  "cells": [
    {
      "cell_type": "markdown",
      "metadata": {
        "id": "view-in-github",
        "colab_type": "text"
      },
      "source": [
        "<a href=\"https://colab.research.google.com/github/RahulParajuli/MachineLearningAlgorithms-Implementations/blob/main/logisticRegressionScratch.ipynb\" target=\"_parent\"><img src=\"https://colab.research.google.com/assets/colab-badge.svg\" alt=\"Open In Colab\"/></a>"
      ]
    },
    {
      "cell_type": "markdown",
      "source": [
        "## Importing all the necessary libraries"
      ],
      "metadata": {
        "id": "aQnZza3IHojv"
      }
    },
    {
      "cell_type": "code",
      "execution_count": 9,
      "metadata": {
        "id": "9ZQYQzjnFiJT"
      },
      "outputs": [],
      "source": [
        "import pandas as pd\n",
        "import numpy as np\n",
        "import matplotlib.pyplot as plt"
      ]
    },
    {
      "cell_type": "markdown",
      "source": [
        "## Loading the dataset"
      ],
      "metadata": {
        "id": "q_FOufijHrxW"
      }
    },
    {
      "cell_type": "code",
      "source": [
        "X_train = pd.read_csv(\"/content/train_X.csv\")\n",
        "Y_train = pd.read_csv(\"/content/train_Y.csv\")\n",
        "\n",
        "X_test = pd.read_csv(\"/content/test_X.csv\")\n",
        "Y_test = pd.read_csv(\"/content/test_Y.csv\")"
      ],
      "metadata": {
        "id": "Gwpx9opmGZ6K"
      },
      "execution_count": 10,
      "outputs": []
    },
    {
      "cell_type": "code",
      "source": [
        "X_train"
      ],
      "metadata": {
        "colab": {
          "base_uri": "https://localhost:8080/",
          "height": 423
        },
        "id": "79jtRMHmFuYq",
        "outputId": "012bfb8f-eb99-4668-84f9-0ef475fb9c43"
      },
      "execution_count": 11,
      "outputs": [
        {
          "output_type": "execute_result",
          "data": {
            "text/plain": [
              "      Id  Pclass  Sex   Age  SibSp  Parch     Fare  Embarked\n",
              "0      0       3    0  22.0      1      0   7.2500         1\n",
              "1      1       1    1  38.0      1      0  71.2833         0\n",
              "2      2       3    1  26.0      0      0   7.9250         1\n",
              "3      3       1    1  35.0      1      0  53.1000         1\n",
              "4      4       3    0  35.0      0      0   8.0500         1\n",
              "..   ...     ...  ...   ...    ...    ...      ...       ...\n",
              "886  886       2    0  27.0      0      0  13.0000         1\n",
              "887  887       1    1  19.0      0      0  30.0000         1\n",
              "888  888       3    1  20.0      1      2  23.4500         1\n",
              "889  889       1    0  26.0      0      0  30.0000         0\n",
              "890  890       3    0  32.0      0      0   7.7500         2\n",
              "\n",
              "[891 rows x 8 columns]"
            ],
            "text/html": [
              "\n",
              "  <div id=\"df-69295567-1c9d-4de3-93c2-cd4717bab680\">\n",
              "    <div class=\"colab-df-container\">\n",
              "      <div>\n",
              "<style scoped>\n",
              "    .dataframe tbody tr th:only-of-type {\n",
              "        vertical-align: middle;\n",
              "    }\n",
              "\n",
              "    .dataframe tbody tr th {\n",
              "        vertical-align: top;\n",
              "    }\n",
              "\n",
              "    .dataframe thead th {\n",
              "        text-align: right;\n",
              "    }\n",
              "</style>\n",
              "<table border=\"1\" class=\"dataframe\">\n",
              "  <thead>\n",
              "    <tr style=\"text-align: right;\">\n",
              "      <th></th>\n",
              "      <th>Id</th>\n",
              "      <th>Pclass</th>\n",
              "      <th>Sex</th>\n",
              "      <th>Age</th>\n",
              "      <th>SibSp</th>\n",
              "      <th>Parch</th>\n",
              "      <th>Fare</th>\n",
              "      <th>Embarked</th>\n",
              "    </tr>\n",
              "  </thead>\n",
              "  <tbody>\n",
              "    <tr>\n",
              "      <th>0</th>\n",
              "      <td>0</td>\n",
              "      <td>3</td>\n",
              "      <td>0</td>\n",
              "      <td>22.0</td>\n",
              "      <td>1</td>\n",
              "      <td>0</td>\n",
              "      <td>7.2500</td>\n",
              "      <td>1</td>\n",
              "    </tr>\n",
              "    <tr>\n",
              "      <th>1</th>\n",
              "      <td>1</td>\n",
              "      <td>1</td>\n",
              "      <td>1</td>\n",
              "      <td>38.0</td>\n",
              "      <td>1</td>\n",
              "      <td>0</td>\n",
              "      <td>71.2833</td>\n",
              "      <td>0</td>\n",
              "    </tr>\n",
              "    <tr>\n",
              "      <th>2</th>\n",
              "      <td>2</td>\n",
              "      <td>3</td>\n",
              "      <td>1</td>\n",
              "      <td>26.0</td>\n",
              "      <td>0</td>\n",
              "      <td>0</td>\n",
              "      <td>7.9250</td>\n",
              "      <td>1</td>\n",
              "    </tr>\n",
              "    <tr>\n",
              "      <th>3</th>\n",
              "      <td>3</td>\n",
              "      <td>1</td>\n",
              "      <td>1</td>\n",
              "      <td>35.0</td>\n",
              "      <td>1</td>\n",
              "      <td>0</td>\n",
              "      <td>53.1000</td>\n",
              "      <td>1</td>\n",
              "    </tr>\n",
              "    <tr>\n",
              "      <th>4</th>\n",
              "      <td>4</td>\n",
              "      <td>3</td>\n",
              "      <td>0</td>\n",
              "      <td>35.0</td>\n",
              "      <td>0</td>\n",
              "      <td>0</td>\n",
              "      <td>8.0500</td>\n",
              "      <td>1</td>\n",
              "    </tr>\n",
              "    <tr>\n",
              "      <th>...</th>\n",
              "      <td>...</td>\n",
              "      <td>...</td>\n",
              "      <td>...</td>\n",
              "      <td>...</td>\n",
              "      <td>...</td>\n",
              "      <td>...</td>\n",
              "      <td>...</td>\n",
              "      <td>...</td>\n",
              "    </tr>\n",
              "    <tr>\n",
              "      <th>886</th>\n",
              "      <td>886</td>\n",
              "      <td>2</td>\n",
              "      <td>0</td>\n",
              "      <td>27.0</td>\n",
              "      <td>0</td>\n",
              "      <td>0</td>\n",
              "      <td>13.0000</td>\n",
              "      <td>1</td>\n",
              "    </tr>\n",
              "    <tr>\n",
              "      <th>887</th>\n",
              "      <td>887</td>\n",
              "      <td>1</td>\n",
              "      <td>1</td>\n",
              "      <td>19.0</td>\n",
              "      <td>0</td>\n",
              "      <td>0</td>\n",
              "      <td>30.0000</td>\n",
              "      <td>1</td>\n",
              "    </tr>\n",
              "    <tr>\n",
              "      <th>888</th>\n",
              "      <td>888</td>\n",
              "      <td>3</td>\n",
              "      <td>1</td>\n",
              "      <td>20.0</td>\n",
              "      <td>1</td>\n",
              "      <td>2</td>\n",
              "      <td>23.4500</td>\n",
              "      <td>1</td>\n",
              "    </tr>\n",
              "    <tr>\n",
              "      <th>889</th>\n",
              "      <td>889</td>\n",
              "      <td>1</td>\n",
              "      <td>0</td>\n",
              "      <td>26.0</td>\n",
              "      <td>0</td>\n",
              "      <td>0</td>\n",
              "      <td>30.0000</td>\n",
              "      <td>0</td>\n",
              "    </tr>\n",
              "    <tr>\n",
              "      <th>890</th>\n",
              "      <td>890</td>\n",
              "      <td>3</td>\n",
              "      <td>0</td>\n",
              "      <td>32.0</td>\n",
              "      <td>0</td>\n",
              "      <td>0</td>\n",
              "      <td>7.7500</td>\n",
              "      <td>2</td>\n",
              "    </tr>\n",
              "  </tbody>\n",
              "</table>\n",
              "<p>891 rows × 8 columns</p>\n",
              "</div>\n",
              "      <button class=\"colab-df-convert\" onclick=\"convertToInteractive('df-69295567-1c9d-4de3-93c2-cd4717bab680')\"\n",
              "              title=\"Convert this dataframe to an interactive table.\"\n",
              "              style=\"display:none;\">\n",
              "        \n",
              "  <svg xmlns=\"http://www.w3.org/2000/svg\" height=\"24px\"viewBox=\"0 0 24 24\"\n",
              "       width=\"24px\">\n",
              "    <path d=\"M0 0h24v24H0V0z\" fill=\"none\"/>\n",
              "    <path d=\"M18.56 5.44l.94 2.06.94-2.06 2.06-.94-2.06-.94-.94-2.06-.94 2.06-2.06.94zm-11 1L8.5 8.5l.94-2.06 2.06-.94-2.06-.94L8.5 2.5l-.94 2.06-2.06.94zm10 10l.94 2.06.94-2.06 2.06-.94-2.06-.94-.94-2.06-.94 2.06-2.06.94z\"/><path d=\"M17.41 7.96l-1.37-1.37c-.4-.4-.92-.59-1.43-.59-.52 0-1.04.2-1.43.59L10.3 9.45l-7.72 7.72c-.78.78-.78 2.05 0 2.83L4 21.41c.39.39.9.59 1.41.59.51 0 1.02-.2 1.41-.59l7.78-7.78 2.81-2.81c.8-.78.8-2.07 0-2.86zM5.41 20L4 18.59l7.72-7.72 1.47 1.35L5.41 20z\"/>\n",
              "  </svg>\n",
              "      </button>\n",
              "      \n",
              "  <style>\n",
              "    .colab-df-container {\n",
              "      display:flex;\n",
              "      flex-wrap:wrap;\n",
              "      gap: 12px;\n",
              "    }\n",
              "\n",
              "    .colab-df-convert {\n",
              "      background-color: #E8F0FE;\n",
              "      border: none;\n",
              "      border-radius: 50%;\n",
              "      cursor: pointer;\n",
              "      display: none;\n",
              "      fill: #1967D2;\n",
              "      height: 32px;\n",
              "      padding: 0 0 0 0;\n",
              "      width: 32px;\n",
              "    }\n",
              "\n",
              "    .colab-df-convert:hover {\n",
              "      background-color: #E2EBFA;\n",
              "      box-shadow: 0px 1px 2px rgba(60, 64, 67, 0.3), 0px 1px 3px 1px rgba(60, 64, 67, 0.15);\n",
              "      fill: #174EA6;\n",
              "    }\n",
              "\n",
              "    [theme=dark] .colab-df-convert {\n",
              "      background-color: #3B4455;\n",
              "      fill: #D2E3FC;\n",
              "    }\n",
              "\n",
              "    [theme=dark] .colab-df-convert:hover {\n",
              "      background-color: #434B5C;\n",
              "      box-shadow: 0px 1px 3px 1px rgba(0, 0, 0, 0.15);\n",
              "      filter: drop-shadow(0px 1px 2px rgba(0, 0, 0, 0.3));\n",
              "      fill: #FFFFFF;\n",
              "    }\n",
              "  </style>\n",
              "\n",
              "      <script>\n",
              "        const buttonEl =\n",
              "          document.querySelector('#df-69295567-1c9d-4de3-93c2-cd4717bab680 button.colab-df-convert');\n",
              "        buttonEl.style.display =\n",
              "          google.colab.kernel.accessAllowed ? 'block' : 'none';\n",
              "\n",
              "        async function convertToInteractive(key) {\n",
              "          const element = document.querySelector('#df-69295567-1c9d-4de3-93c2-cd4717bab680');\n",
              "          const dataTable =\n",
              "            await google.colab.kernel.invokeFunction('convertToInteractive',\n",
              "                                                     [key], {});\n",
              "          if (!dataTable) return;\n",
              "\n",
              "          const docLinkHtml = 'Like what you see? Visit the ' +\n",
              "            '<a target=\"_blank\" href=https://colab.research.google.com/notebooks/data_table.ipynb>data table notebook</a>'\n",
              "            + ' to learn more about interactive tables.';\n",
              "          element.innerHTML = '';\n",
              "          dataTable['output_type'] = 'display_data';\n",
              "          await google.colab.output.renderOutput(dataTable, element);\n",
              "          const docLink = document.createElement('div');\n",
              "          docLink.innerHTML = docLinkHtml;\n",
              "          element.appendChild(docLink);\n",
              "        }\n",
              "      </script>\n",
              "    </div>\n",
              "  </div>\n",
              "  "
            ]
          },
          "metadata": {},
          "execution_count": 11
        }
      ]
    },
    {
      "cell_type": "markdown",
      "source": [
        "## Dropping unnecessary column"
      ],
      "metadata": {
        "id": "s63aQdVdHjJX"
      }
    },
    {
      "cell_type": "code",
      "source": [
        "X_train = X_train.drop(\"Id\", axis = 1)\n",
        "Y_train = Y_train.drop(\"Id\", axis = 1)\n",
        "X_test = X_test.drop(\"Id\", axis = 1)\n",
        "Y_test = Y_test.drop(\"Id\", axis = 1)"
      ],
      "metadata": {
        "id": "DlDCp0FAGyul"
      },
      "execution_count": 12,
      "outputs": []
    },
    {
      "cell_type": "markdown",
      "source": [
        "## Converting data into numpy array"
      ],
      "metadata": {
        "id": "hA8XMZO6HfRt"
      }
    },
    {
      "cell_type": "code",
      "source": [
        "X_train = X_train.values\n",
        "Y_train = Y_train.values\n",
        "X_test = X_test.values\n",
        "Y_test = Y_test.values"
      ],
      "metadata": {
        "id": "y9V40lHsG1uw"
      },
      "execution_count": 14,
      "outputs": []
    },
    {
      "cell_type": "code",
      "source": [
        "X_train"
      ],
      "metadata": {
        "colab": {
          "base_uri": "https://localhost:8080/"
        },
        "id": "mqMgDEWBHMdj",
        "outputId": "efc3b288-a4a0-42d0-b968-abfb2ced1d35"
      },
      "execution_count": 15,
      "outputs": [
        {
          "output_type": "execute_result",
          "data": {
            "text/plain": [
              "array([[ 3.    ,  0.    , 22.    , ...,  0.    ,  7.25  ,  1.    ],\n",
              "       [ 1.    ,  1.    , 38.    , ...,  0.    , 71.2833,  0.    ],\n",
              "       [ 3.    ,  1.    , 26.    , ...,  0.    ,  7.925 ,  1.    ],\n",
              "       ...,\n",
              "       [ 3.    ,  1.    , 20.    , ...,  2.    , 23.45  ,  1.    ],\n",
              "       [ 1.    ,  0.    , 26.    , ...,  0.    , 30.    ,  0.    ],\n",
              "       [ 3.    ,  0.    , 32.    , ...,  0.    ,  7.75  ,  2.    ]])"
            ]
          },
          "metadata": {},
          "execution_count": 15
        }
      ]
    },
    {
      "cell_type": "markdown",
      "source": [
        "## Implementing logistic regressio from scratch"
      ],
      "metadata": {
        "id": "2fs7oSIkIYlq"
      }
    },
    {
      "cell_type": "markdown",
      "source": [
        "### reshaping the dataset for training"
      ],
      "metadata": {
        "id": "MooPgF5wJ0H-"
      }
    },
    {
      "cell_type": "code",
      "source": [
        "X_train = X_train.T\n",
        "Y_train = Y_train.reshape(1, X_train.shape[1])\n",
        "\n",
        "X_test = X_test.T\n",
        "Y_test = Y_test.reshape(1, X_test.shape[1])"
      ],
      "metadata": {
        "id": "efyp3l5rHeZR"
      },
      "execution_count": 17,
      "outputs": []
    },
    {
      "cell_type": "code",
      "source": [
        "print(\"the shape of X_train is :\", X_train.shape)\n",
        "print(\"the shape of Y_train is :\", Y_train.shape)\n",
        "print(\"the shape of X_test is :\", X_test.shape)\n",
        "print(\"the shape of Y_test is :\", Y_test.shape)\n"
      ],
      "metadata": {
        "colab": {
          "base_uri": "https://localhost:8080/"
        },
        "id": "3ro6VYhhIQEl",
        "outputId": "6e2bdd4c-0c84-490b-84a2-b180dd0e30b5"
      },
      "execution_count": 18,
      "outputs": [
        {
          "output_type": "stream",
          "name": "stdout",
          "text": [
            "the shape of X_train is : (7, 891)\n",
            "the shape of Y_train is : (1, 891)\n",
            "the shape of X_test is : (7, 418)\n",
            "the shape of Y_test is : (1, 418)\n"
          ]
        }
      ]
    },
    {
      "cell_type": "markdown",
      "source": [
        "## Model"
      ],
      "metadata": {
        "id": "nXtDYRr2J4So"
      }
    },
    {
      "cell_type": "code",
      "source": [
        "def sigmoid(x):\n",
        "  return 1/(1+np.exp(-x))"
      ],
      "metadata": {
        "id": "KyihkWm1KRPn"
      },
      "execution_count": null,
      "outputs": []
    },
    {
      "cell_type": "code",
      "source": [
        "def model (X, Y, learning_rate, iterations):\n",
        "  m = X_train.shape[1]\n",
        "  n = X_train.shape[0]\n",
        "\n",
        "  W = np.zeros((n,1))\n",
        "  B = 0\n",
        "  cost_list=[]\n",
        "\n",
        "  for i in range(iterations):\n",
        "    Z = np.dot(W.T, X) + B\n",
        "    A = sigmoid(Z)\n",
        "\n",
        "    #cost function\n",
        "    cost = -(1/m)*np.sum( Y*np.log(A) + (1-Y)*np.log(1-A))\n",
        "\n",
        "    #gradient descent\n",
        "    dW = (1/m)*np.dot(A-Y, X.T)\n",
        "    dB = (1/m)*np.sum(A - Y)\n",
        "        \n",
        "    W = W - learning_rate*dW.T\n",
        "    B = B - learning_rate*dB\n",
        "        \n",
        "    # Keeping track of our cost function value\n",
        "    cost_list.append(cost)\n",
        "        \n",
        "    if(i%(iterations/10) == 0):\n",
        "        print(\"cost after \", i, \"iteration is : \", cost)\n",
        "        \n",
        "  return W, B, cost_list\n",
        "        \n"
      ],
      "metadata": {
        "id": "wqhnBlpAJwCy"
      },
      "execution_count": null,
      "outputs": []
    }
  ]
}